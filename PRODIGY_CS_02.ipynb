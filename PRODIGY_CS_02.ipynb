{
 "cells": [
  {
   "cell_type": "code",
   "execution_count": 2,
   "id": "dd61dbd5",
   "metadata": {},
   "outputs": [
    {
     "name": "stdout",
     "output_type": "stream",
     "text": [
      "Image encrypted successfully!\n",
      "Image decrypted successfully!\n"
     ]
    }
   ],
   "source": [
    "from PIL import Image\n",
    "\n",
    "def encrypt_image(input_path, output_path, key):\n",
    "    img = Image.open(input_path)\n",
    "    pixels = img.load()\n",
    "\n",
    "    width, height = img.size\n",
    "\n",
    "    for i in range(width):\n",
    "        for j in range(height):\n",
    "            r, g, b = pixels[i, j]\n",
    "\n",
    "            # swapping red and blue channels\n",
    "            encrypted_pixel = (b, g, r)\n",
    "\n",
    "            pixels[i, j] = encrypted_pixel\n",
    "\n",
    "    img.save(output_path)\n",
    "    print(\"Image encrypted successfully!\")\n",
    "\n",
    "def decrypt_image(input_path, output_path, key):\n",
    "    img = Image.open(input_path)\n",
    "    pixels = img.load()\n",
    "\n",
    "    width, height = img.size\n",
    "\n",
    "    for i in range(width):\n",
    "        for j in range(height):\n",
    "            r, g, b = pixels[i, j]\n",
    "\n",
    "            # swapping red and blue channels back\n",
    "            decrypted_pixel = (b, g, r)\n",
    "\n",
    "            pixels[i, j] = decrypted_pixel\n",
    "\n",
    "    img.save(output_path)\n",
    "    print(\"Image decrypted successfully!\")\n",
    "\n",
    " # image path\n",
    "input_image = r\"C:\\Users\\Nisha\\OneDrive\\Pictures\\cyber.jpg\"\n",
    "encrypted_image = r\"C:\\Users\\Nisha\\OneDrive\\Pictures\\decrypted_image.jpg\"\n",
    "decrypted_image = r\"C:\\Users\\Nisha\\OneDrive\\Pictures\\encrypted_image.jpg\"\n",
    "\n",
    "\n",
    "# Encrypt the image\n",
    "encrypt_image(input_image, encrypted_image, key=None)\n",
    "\n",
    "# Decrypt the image\n",
    "decrypt_image(encrypted_image, decrypted_image, key=None)"
   ]
  },
  {
   "cell_type": "code",
   "execution_count": null,
   "id": "3b2a9036",
   "metadata": {},
   "outputs": [],
   "source": []
  },
  {
   "cell_type": "code",
   "execution_count": null,
   "id": "c033e38b",
   "metadata": {},
   "outputs": [],
   "source": []
  }
 ],
 "metadata": {
  "kernelspec": {
   "display_name": "Python 3 (ipykernel)",
   "language": "python",
   "name": "python3"
  },
  "language_info": {
   "codemirror_mode": {
    "name": "ipython",
    "version": 3
   },
   "file_extension": ".py",
   "mimetype": "text/x-python",
   "name": "python",
   "nbconvert_exporter": "python",
   "pygments_lexer": "ipython3",
   "version": "3.11.5"
  }
 },
 "nbformat": 4,
 "nbformat_minor": 5
}
